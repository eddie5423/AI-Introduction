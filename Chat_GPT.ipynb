{
  "nbformat": 4,
  "nbformat_minor": 0,
  "metadata": {
    "colab": {
      "provenance": []
    },
    "kernelspec": {
      "name": "python3",
      "display_name": "Python 3"
    },
    "language_info": {
      "name": "python"
    }
  },
  "cells": [
    {
      "cell_type": "markdown",
      "source": [
        "# Chat_GPT\n",
        "  "
      ],
      "metadata": {
        "id": "S3DrCgCCp6qJ"
      }
    },
    {
      "cell_type": "markdown",
      "source": [
        "它是一个非官方项目，仅供个人学习研究。ChatGPT 桌面应用开源的这段时间，受到了很多关注，谢谢大家的支持。随着事情的发展，有两个问题严重影响了项目的下一步开发计划:"
      ],
      "metadata": {
        "id": "AMmI_FI5qBn_"
      }
    }
  ]
}
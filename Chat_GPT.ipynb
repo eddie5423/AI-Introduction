{
  "nbformat": 4,
  "nbformat_minor": 0,
  "metadata": {
    "colab": {
      "provenance": []
    },
    "kernelspec": {
      "name": "python3",
      "display_name": "Python 3"
    },
    "language_info": {
      "name": "python"
    }
  },
  "cells": [
    {
      "cell_type": "markdown",
      "source": [
        "# Chat_GPT\n",
        "  "
      ],
      "metadata": {
        "id": "S3DrCgCCp6qJ"
      }
    },
    {
      "cell_type": "markdown",
      "source": [
        "![](https://i.imgur.com/Gvc9HYH.png)"
      ],
      "metadata": {
        "id": "quBzTsgys--6"
      }
    },
    {
      "cell_type": "markdown",
      "source": [
        "它是一個非官方項目，僅供個人學習研究。 ChatGPT 桌面應用開源的這段時間，受到了很多關注，謝謝大家的支持。隨著事情的發展，有兩個問題嚴重影響了項目的下一步開發計劃:"
      ],
      "metadata": {
        "id": "AMmI_FI5qBn_"
      }
    },
    {
      "cell_type": "markdown",
      "source": [
        "ChatGPT由馬斯克（Elon Musk）參與創立的獨立研究機構OpenAI基金會所研發。\n",
        "\n",
        "馬斯克於2015年底，和其他矽谷投資者共同創立了這家新創，包括技術風險投資家奧特曼（Sam Altman），並表示該研究中心將「以最可能造福人類的方式推進數位智慧」。\n",
        "\n"
      ],
      "metadata": {
        "id": "6ans775Po_ap"
      }
    }
  ]
}